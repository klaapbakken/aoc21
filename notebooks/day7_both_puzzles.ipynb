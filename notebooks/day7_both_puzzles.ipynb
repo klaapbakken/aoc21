{
 "cells": [
  {
   "cell_type": "code",
   "execution_count": 2,
   "id": "063d067e-8175-4616-9a87-07f1566dcd8e",
   "metadata": {},
   "outputs": [
    {
     "name": "stdout",
     "output_type": "stream",
     "text": [
      "354129 98905973\n"
     ]
    }
   ],
   "source": [
    "import os\n",
    "import numpy as np\n",
    "\n",
    "path = os.path.abspath(\"../inputs/day7/puzzle1.txt\")\n",
    "with open(path, mode=\"r\") as f:\n",
    "    input_data = [x.rstrip(os.linesep) for x in f.readlines()]\n",
    "\n",
    "positions = np.array(list(map(int, input_data[0].split(\",\"))))\n",
    "x_space = np.arange(np.min(positions), np.max(positions) + 1)\n",
    "\n",
    "def distance(x, positions):\n",
    "    return np.abs(x - np.array(positions))\n",
    "\n",
    "def fuel_use_1(distance):\n",
    "    return np.sum(distance)\n",
    "\n",
    "COST_ARRAY = np.cumsum((np.arange(x_space[-1] - x_space[0] + 1)))\n",
    "def fuel_use_2(distance):\n",
    "    return np.sum(COST_ARRAY[distance])\n",
    "\n",
    "distance_arr = np.array([distance(x, positions) for x in x_space])\n",
    "puzzle_1_output = np.min(np.array([fuel_use_1(d) for d in distance_arr]))\n",
    "puzzle_2_output = np.min(np.array([fuel_use_2(d) for d in distance_arr]))\n",
    "\n",
    "print(puzzle_1_output, puzzle_2_output)"
   ]
  },
  {
   "cell_type": "code",
   "execution_count": null,
   "id": "c63285d2-49d2-43c9-839b-df1ebc305ecc",
   "metadata": {},
   "outputs": [],
   "source": []
  }
 ],
 "metadata": {
  "kernelspec": {
   "display_name": "Python [conda env:aoc21]",
   "language": "python",
   "name": "conda-env-aoc21-xpython"
  },
  "language_info": {
   "file_extension": ".py",
   "mimetype": "text/x-python",
   "name": "python",
   "version": "3.10.0"
  }
 },
 "nbformat": 4,
 "nbformat_minor": 5
}
