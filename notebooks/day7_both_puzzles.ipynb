{
 "cells": [
  {
   "cell_type": "code",
   "execution_count": 178,
   "id": "3e7d66f7-9b68-4ca2-8fbf-31347db727cf",
   "metadata": {},
   "outputs": [],
   "source": [
    "import sys\n",
    "import os\n",
    "sys.path.append(os.path.abspath(\"..\"))\n",
    "from utils import read_input\n",
    "import numpy as np\n",
    "\n",
    "INPUT_PATH = os.path.abspath(\"../inputs/day7/puzzle1.txt\")\n",
    "\n",
    "input_data = read_input(INPUT_PATH)[0]"
   ]
  },
  {
   "cell_type": "code",
   "execution_count": 179,
   "id": "285711c8-ada0-47b5-a71e-08319622e32e",
   "metadata": {},
   "outputs": [],
   "source": [
    "positions = np.array(list(map(int, input_data.split(\",\"))))"
   ]
  },
  {
   "cell_type": "code",
   "execution_count": 180,
   "id": "50ef1c59-71ae-4dec-bef1-9c811a0aa634",
   "metadata": {},
   "outputs": [],
   "source": [
    "def distance(x, positions):\n",
    "    return np.abs(x - np.array(positions))"
   ]
  },
  {
   "cell_type": "code",
   "execution_count": 181,
   "id": "af45061f-bc2c-49c9-ae01-418f61b31115",
   "metadata": {},
   "outputs": [],
   "source": [
    "def fuel_use_1(distance):\n",
    "    return np.sum(distance)"
   ]
  },
  {
   "cell_type": "code",
   "execution_count": 182,
   "id": "b9352089-39ec-4c36-b9aa-bfa6a083a0f7",
   "metadata": {},
   "outputs": [],
   "source": [
    "def fuel_use_2(distance):\n",
    "    return np.sum(np.cumsum((np.arange(x_range[-1] - x_range[0] + 1)))[distance])"
   ]
  },
  {
   "cell_type": "code",
   "execution_count": 191,
   "id": "211d0873-5e7b-4919-b7a8-c9ea7917749f",
   "metadata": {},
   "outputs": [],
   "source": [
    "x_space = np.arange(np.min(positions), np.max(positions) + 1)\n",
    "distance_arr = np.array([distance(x, positions) for x in x_space])\n",
    "puzzle_1_output = np.min(np.array([fuel_use_1(d) for d in distance_arr]))\n",
    "puzzle_2_output = np.min(np.array([fuel_use_2(d) for d in distance_arr]))"
   ]
  },
  {
   "cell_type": "code",
   "execution_count": 198,
   "id": "bf4c36ee-ad0e-4a98-b4e9-dc5223ac04f4",
   "metadata": {},
   "outputs": [
    {
     "name": "stdout",
     "output_type": "stream",
     "text": [
      "354129 98905973\n"
     ]
    }
   ],
   "source": [
    "print(puzzle_1_output, puzzle_2_output)"
   ]
  },
  {
   "cell_type": "code",
   "execution_count": null,
   "id": "04af8475-0600-4bcf-a515-e0b5a6738d23",
   "metadata": {},
   "outputs": [],
   "source": []
  }
 ],
 "metadata": {
  "kernelspec": {
   "display_name": "Python [conda env:aoc21]",
   "language": "python",
   "name": "conda-env-aoc21-xpython"
  },
  "language_info": {
   "file_extension": ".py",
   "mimetype": "text/x-python",
   "name": "python",
   "version": "3.10.0"
  }
 },
 "nbformat": 4,
 "nbformat_minor": 5
}
