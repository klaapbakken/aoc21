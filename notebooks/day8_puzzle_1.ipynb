{
 "cells": [
  {
   "cell_type": "code",
   "execution_count": 16,
   "id": "5ae2954a-af68-49ca-a82b-a7c29801785d",
   "metadata": {},
   "outputs": [],
   "source": [
    "import os\n",
    "import numpy as np\n",
    "\n",
    "path = os.path.abspath(\"../inputs/day8/puzzle1.txt\")\n",
    "with open(path, mode=\"r\") as f:\n",
    "    lines = [x.rstrip(os.linesep) for x in f.readlines()]"
   ]
  },
  {
   "cell_type": "code",
   "execution_count": 24,
   "id": "4d7ccd34-b9da-4ff9-a63e-6fc4c36a8c44",
   "metadata": {},
   "outputs": [],
   "source": [
    "def process_line(line):\n",
    "    patterns, outputs =  line.split(\" | \")\n",
    "    return patterns.split(\" \"), outputs.split(\" \")\n",
    "processed_lines = [process_line(line) for line in input_data]\n",
    "all_patterns = [x[0] for x in processed_lines]\n",
    "all_outputs = [x[1] for x in processed_lines]"
   ]
  },
  {
   "cell_type": "code",
   "execution_count": 291,
   "id": "770bfdf7-5688-4608-8cb3-78a94e0b3405",
   "metadata": {},
   "outputs": [],
   "source": [
    "class Display:\n",
    "    digit_segments = {\n",
    "        0: [\"a\", \"b\", \"c\", \"e\", \"f\", \"g\"],\n",
    "        1: [\"c\", \"f\"],\n",
    "        2: [\"a\", \"c\", \"d\", \"e\", \"g\"],\n",
    "        3: [\"a\", \"c\", \"d\", \"f\", \"g\"],\n",
    "        4: [\"b\", \"c\", \"d\", \"f\"],\n",
    "        5: [\"a\", \"b\", \"d\", \"f\", \"g\"],\n",
    "        6: [\"a\", \"b\", \"d\", \"e\", \"f\", \"g\"],\n",
    "        7: [\"a\", \"c\", \"f\"],\n",
    "        8: [\"a\", \"b\", \"c\", \"d\", \"e\", \"f\", \"g\"],\n",
    "        9: [\"a\", \"b\", \"c\", \"f\", \"g\"],                                                                   \n",
    "    }\n",
    "    \n",
    "    digit_segments = {k: frozenset(v) for k, v in digit_segments.items()}\n",
    "    \n",
    "    digit_lengths = {digit: len(segment) for digit, segment in digit_segments.items()}\n",
    "    \n",
    "    def __init__(self, patterns):\n",
    "        self.patterns = list(map(frozenset, patterns))\n",
    "        self.potential_matches = {pattern: set(self.digit_segments.keys()) for pattern in self.patterns}\n",
    "        \n",
    "    def length_exclusion(self):\n",
    "        for pattern in self.patterns:\n",
    "            length = len(pattern)\n",
    "            non_matching_digits = set((d for d, l in self.digit_lengths.items() if l != length))\n",
    "            self.potential_matches[pattern] -= non_matching_digits\n",
    "    \n",
    "    def decode(self, outputs):\n",
    "        outputs = map(frozenset, outputs)\n",
    "        return list(filter(lambda x: len(x) == 1, [self.potential_matches[output] for output in outputs]))\n",
    "    \n",
    "        "
   ]
  },
  {
   "cell_type": "code",
   "execution_count": null,
   "id": "d01c663a-db4e-481b-8548-5d96861b9998",
   "metadata": {},
   "outputs": [],
   "source": []
  },
  {
   "cell_type": "code",
   "execution_count": 292,
   "id": "561baf04-acfe-4832-bb43-3811ecad4488",
   "metadata": {},
   "outputs": [],
   "source": [
    "displays = [Display(patterns) for patterns in all_patterns]"
   ]
  },
  {
   "cell_type": "code",
   "execution_count": 293,
   "id": "e5bea9ba-4166-4fd2-bb8b-5452b8857c9b",
   "metadata": {},
   "outputs": [],
   "source": [
    "for display in displays:\n",
    "    display.length_exclusion()"
   ]
  },
  {
   "cell_type": "code",
   "execution_count": 294,
   "id": "d532cdc7-fc02-485e-8cf1-037845d63f80",
   "metadata": {},
   "outputs": [],
   "source": [
    "decoded = [display.decode(output) for display, output in zip(displays, outputs)]"
   ]
  },
  {
   "cell_type": "code",
   "execution_count": 295,
   "id": "7b6e178e-fe55-4a47-8fb0-05a16f092209",
   "metadata": {},
   "outputs": [
    {
     "name": "stdout",
     "output_type": "stream",
     "text": [
      "367\n"
     ]
    }
   ],
   "source": [
    "part_one = sum(map(len, decoded))\n",
    "print(part_one)"
   ]
  },
  {
   "cell_type": "code",
   "execution_count": null,
   "id": "6b824aab-9684-4e63-9bed-350566b30e57",
   "metadata": {},
   "outputs": [],
   "source": []
  }
 ],
 "metadata": {
  "kernelspec": {
   "display_name": "Python [conda env:aoc21]",
   "language": "python",
   "name": "conda-env-aoc21-xpython"
  },
  "language_info": {
   "file_extension": ".py",
   "mimetype": "text/x-python",
   "name": "python",
   "version": "3.10.0"
  }
 },
 "nbformat": 4,
 "nbformat_minor": 5
}
