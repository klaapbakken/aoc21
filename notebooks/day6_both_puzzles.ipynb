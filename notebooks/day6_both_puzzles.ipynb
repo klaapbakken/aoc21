{
 "cells": [
  {
   "cell_type": "code",
   "execution_count": 1,
   "id": "0f7d2ef1-12fc-421b-96ea-a12833963cad",
   "metadata": {},
   "outputs": [],
   "source": [
    "import sys\n",
    "import os\n",
    "sys.path.append(os.path.abspath(\"..\"))\n",
    "from utils import read_input\n",
    "import numpy as np\n",
    "\n",
    "INPUT_PATH = os.path.abspath(\"../inputs/day6/puzzle1.txt\")\n",
    "\n",
    "input_data = read_input(INPUT_PATH)[0]"
   ]
  },
  {
   "cell_type": "code",
   "execution_count": 2,
   "id": "2d4587c8-7c1c-4a65-9873-6e9132cbc072",
   "metadata": {},
   "outputs": [
    {
     "name": "stdout",
     "output_type": "stream",
     "text": [
      "After day 80 - 362639 fish\n"
     ]
    }
   ],
   "source": [
    "timers = np.array([int(x) for x in input_data.split(\",\")])\n",
    "spawn = timers == 0\n",
    "\n",
    "for day in range(80):\n",
    "    # Decrement timer\n",
    "    timers -= 1\n",
    "    # Reset timer\n",
    "    timers[spawn] = 6\n",
    "    # Add fish \n",
    "    timers = np.concatenate((timers, np.ones((np.sum(spawn),), dtype=int)*8))\n",
    "    # Which fish to add next day\n",
    "    spawn = timers == 0\n",
    "print(f\"After day {day + 1} - {timers.shape[0]} fish\")"
   ]
  },
  {
   "cell_type": "code",
   "execution_count": 17,
   "id": "eabf4ca1-0be6-4236-a187-01517737de16",
   "metadata": {},
   "outputs": [],
   "source": [
    "class SchoolOfLaternfish:\n",
    "    states = list(range(-1, 9))\n",
    "    \n",
    "    def __init__(self, initial_states):\n",
    "        self.state_counter = {state: 0 for state in self.states}\n",
    "        for state in initial_states:\n",
    "            self.state_counter[state] += 1\n",
    "        self.num_spawn = self.state_counter[0]\n",
    "        \n",
    "    def next_day(self):\n",
    "        self.decrement_timer()\n",
    "        self.reset_timer()\n",
    "        self.spawn_fish()\n",
    "        \n",
    "    def decrement_timer(self):\n",
    "        for state in self.states[1:]:\n",
    "            self.state_counter[state - 1] = self.state_counter[state]\n",
    "            self.state_counter[state] = 0\n",
    "\n",
    "    def reset_timer(self):\n",
    "        self.state_counter[6] += self.num_spawn\n",
    "        self.state_counter[-1] = 0\n",
    "        \n",
    "    def spawn_fish(self):\n",
    "        self.state_counter[8] = self.num_spawn\n",
    "        self.num_spawn = self.state_counter[0]\n",
    "        \n",
    "    def simulate_days(self, num_days):\n",
    "        growth = []\n",
    "        growth.append(sum(self.state_counter.values()))\n",
    "        for i in range(num_days):\n",
    "            self.next_day()\n",
    "            growth.append(sum(self.state_counter.values()))\n",
    "        print(f\"Day {i+1}: {sum(self.state_counter.values())}\")\n",
    "        return np.array(growth)"
   ]
  },
  {
   "cell_type": "code",
   "execution_count": 18,
   "id": "a14a8233-3612-469a-a53c-a281398881f7",
   "metadata": {},
   "outputs": [],
   "source": [
    "initial_states = np.array([int(x) for x in input_data.split(\",\")])"
   ]
  },
  {
   "cell_type": "code",
   "execution_count": 21,
   "id": "4ffdd213-add5-4ef8-aa18-08158d76cd54",
   "metadata": {},
   "outputs": [
    {
     "name": "stdout",
     "output_type": "stream",
     "text": [
      "Day 256: 1639854996917\n"
     ]
    }
   ],
   "source": [
    "school = SchoolOfLaternfish(initial_states)\n",
    "\n",
    "growth = school.simulate_days(256)"
   ]
  },
  {
   "cell_type": "code",
   "execution_count": 22,
   "id": "8b2a88ff-309f-477f-a274-df4c9e648619",
   "metadata": {},
   "outputs": [],
   "source": [
    "import matplotlib.pyplot as plt"
   ]
  },
  {
   "cell_type": "code",
   "execution_count": 25,
   "id": "3ddf3bd5-f84f-4900-ab91-8e0a00ecec40",
   "metadata": {},
   "outputs": [
    {
     "data": {
      "text/plain": [
       "[<matplotlib.lines.Line2D at 0x280c68d84f0>]"
      ]
     },
     "execution_count": 25,
     "metadata": {},
     "output_type": "execute_result"
    },
    {
     "data": {
      "image/png": "[encoded data removed]",
      "text/plain": [
       "<Figure size 432x288 with 1 Axes>"
      ]
     },
     "metadata": {
      "needs_background": "light"
     },
     "output_type": "display_data"
    }
   ],
   "source": [
    "%matplotlib inline\n",
    "plt.plot(np.arange(growth.shape[0]), growth)"
   ]
  }
 ],
 "metadata": {
  "kernelspec": {
   "display_name": "Python [conda env:aoc21]",
   "language": "python",
   "name": "conda-env-aoc21-xpython"
  },
  "language_info": {
   "file_extension": ".py",
   "mimetype": "text/x-python",
   "name": "python",
   "version": "3.10.0"
  }
 },
 "nbformat": 4,
 "nbformat_minor": 5
}
