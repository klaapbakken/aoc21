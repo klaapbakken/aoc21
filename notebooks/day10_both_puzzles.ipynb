{
 "cells": [
  {
   "cell_type": "code",
   "execution_count": 176,
   "id": "1f80a7b2-8765-4d65-af33-76189d98895b",
   "metadata": {},
   "outputs": [],
   "source": [
    "import os\n",
    "import numpy as np\n",
    "from collections import deque\n",
    "from functools import reduce\n",
    "\n",
    "path = os.path.abspath(\"../inputs/day10/puzzle1.txt\")\n",
    "with open(path, mode=\"r\") as f:\n",
    "    lines = [x.rstrip(os.linesep) for x in f.readlines()]"
   ]
  },
  {
   "cell_type": "code",
   "execution_count": 177,
   "id": "95808041-4280-4195-a967-e821f4834d99",
   "metadata": {},
   "outputs": [],
   "source": [
    "bracket_pairs = {\n",
    "    \"{\" : \"}\",\n",
    "    \"[\" : \"]\",\n",
    "    \"(\" : \")\",\n",
    "    \"<\" : \">\"\n",
    "}"
   ]
  },
  {
   "cell_type": "code",
   "execution_count": 178,
   "id": "17df5043-4ad8-4371-980f-f3e14bff8063",
   "metadata": {
    "tags": []
   },
   "outputs": [],
   "source": [
    "corrupted_lines = []\n",
    "first_illegal_character = []\n",
    "missing_brackets = []\n",
    "for i, line in enumerate(lines):\n",
    "    corrupted_line = False\n",
    "    current_chunk = []\n",
    "    bracket_deque = deque()\n",
    "    for bracket in line:\n",
    "        # If opening bracket\n",
    "        if bracket in bracket_pairs.keys():\n",
    "            current_chunk.append(bracket)\n",
    "            bracket_deque.append(bracket)\n",
    "        # If closing bracket\n",
    "        else:\n",
    "            if bracket_pairs[bracket_deque[-1]] == bracket:\n",
    "                _ = bracket_deque.pop()\n",
    "            else:\n",
    "                corrupted_lines.append(i)\n",
    "                first_illegal_character.append(bracket)\n",
    "                corrupted_line = True\n",
    "                break\n",
    "    if not corrupted_line:\n",
    "        bracket_deque.reverse()\n",
    "        missing_brackets.append([bracket_pairs[x] for x in iter(bracket_deque)])"
   ]
  },
  {
   "cell_type": "code",
   "execution_count": 179,
   "id": "15e8b611-7a11-46c8-b55e-ee23b491624e",
   "metadata": {},
   "outputs": [],
   "source": [
    "syntax_scores = {\n",
    "    \"}\" : 1197,\n",
    "    \"]\" : 57,\n",
    "    \")\" : 3,\n",
    "    \">\" : 25137\n",
    "}"
   ]
  },
  {
   "cell_type": "code",
   "execution_count": 187,
   "id": "b152a241-8613-46f9-a291-e9d0d556eafe",
   "metadata": {},
   "outputs": [
    {
     "name": "stdout",
     "output_type": "stream",
     "text": [
      "318099\n"
     ]
    }
   ],
   "source": [
    "part_one = sum([syntax_scores[char] for char in first_illegal_character])\n",
    "print(part_one)"
   ]
  },
  {
   "cell_type": "code",
   "execution_count": 188,
   "id": "7471dac5-76a6-411a-b93a-76a6fb3770eb",
   "metadata": {},
   "outputs": [],
   "source": [
    "autocomplete_scores = {\n",
    "    \"}\" : 3,\n",
    "    \"]\" : 2,\n",
    "    \")\" : 1,\n",
    "    \">\" : 4\n",
    "}"
   ]
  },
  {
   "cell_type": "code",
   "execution_count": 189,
   "id": "12c26440-f752-4fe0-9d53-d867f9a98446",
   "metadata": {},
   "outputs": [],
   "source": [
    "part_two_scores = [reduce(lambda x, y: x * 5 + autocomplete_scores[y], x, 0) for x in missing_brackets]\n",
    "part_two = sorted(scores)[len(scores) // 2]"
   ]
  },
  {
   "cell_type": "code",
   "execution_count": 190,
   "id": "e58bf205-41ca-41aa-bee1-2294cd49f25f",
   "metadata": {},
   "outputs": [
    {
     "name": "stdout",
     "output_type": "stream",
     "text": [
      "2389738699\n"
     ]
    }
   ],
   "source": [
    "print(sorted(scores)[len(scores) // 2])"
   ]
  },
  {
   "cell_type": "code",
   "execution_count": null,
   "id": "04c39647-abd0-4408-94ed-8da5c9a2eca3",
   "metadata": {},
   "outputs": [],
   "source": []
  }
 ],
 "metadata": {
  "kernelspec": {
   "display_name": "Python [conda env:aoc21]",
   "language": "python",
   "name": "conda-env-aoc21-xpython"
  },
  "language_info": {
   "file_extension": ".py",
   "mimetype": "text/x-python",
   "name": "python",
   "version": "3.10.0"
  }
 },
 "nbformat": 4,
 "nbformat_minor": 5
}
